{
 "cells": [
  {
   "cell_type": "code",
   "execution_count": 1,
   "metadata": {},
   "outputs": [],
   "source": [
    "import pickle\n",
    "from tqdm.auto import tqdm\n",
    "from bs4 import BeautifulSoup\n",
    "from random import choice\n",
    "from parse_utils import get_title, get_dates, get_doc_type, get_rubrics\n",
    "import re"
   ]
  },
  {
   "cell_type": "code",
   "execution_count": 2,
   "metadata": {},
   "outputs": [],
   "source": [
    "with open(\"docs.pkl\", \"rb\") as f:\n",
    "    docs = pickle.load(f)"
   ]
  },
  {
   "cell_type": "code",
   "execution_count": 3,
   "metadata": {},
   "outputs": [],
   "source": [
    "# https://company.rzd.ru/ru/9353/page/105104?id=1489"
   ]
  },
  {
   "cell_type": "code",
   "execution_count": 4,
   "metadata": {},
   "outputs": [],
   "source": [
    "for doc in docs:\n",
    "    if doc[\"href\"] == \"https://company.rzd.ru/ru/9353/page/105104?id=1604\":\n",
    "        break"
   ]
  },
  {
   "cell_type": "code",
   "execution_count": 5,
   "metadata": {},
   "outputs": [
    {
     "name": "stdout",
     "output_type": "stream",
     "text": [
      "Деятельность ОАО «РЖД»\n",
      "https://company.rzd.ru/ru/9353/page/105104?id=1604\n"
     ]
    },
    {
     "data": {
      "text/plain": [
       "'Коллективный договор открытого акционерного общества «Российские железные дороги» на 2023-2025 годы'"
      ]
     },
     "execution_count": 5,
     "metadata": {},
     "output_type": "execute_result"
    }
   ],
   "source": [
    "# doc = docs[0]\n",
    "# doc = choice(docs)\n",
    "\n",
    "html = doc[\"html\"]\n",
    "soup = BeautifulSoup(html, 'html.parser')\n",
    "\n",
    "all_links = soup.find_all(\"a\")\n",
    "all_hrefs = [link.attrs['href'] for link in all_links]\n",
    "\n",
    "print(doc[\"topic\"])\n",
    "print(doc['href'])\n",
    "title = soup.find(\"h2\", {\"class\": \"card-header\"}).text\n",
    "title = re.sub(r\"\\s+\", \" \", title)\n",
    "title"
   ]
  },
  {
   "cell_type": "code",
   "execution_count": 45,
   "metadata": {},
   "outputs": [
    {
     "data": {
      "text/plain": [
       "[{'type': 'Дата официальной публикации', 'date': '17.03.2021'},\n",
       " {'type': 'Редакция от', 'date': '15.10.2020'}]"
      ]
     },
     "execution_count": 45,
     "metadata": {},
     "output_type": "execute_result"
    }
   ],
   "source": [
    "# find tags by class\n",
    "\n",
    "date_elements = soup.find_all(\"div\", {\"class\": \"date-top\"})\n",
    "\n",
    "dates = []\n",
    "for el in date_elements:\n",
    "    date_type = el.find(\"span\", {\"class\": \"text-more-grey\"}).text.strip()\n",
    "    date = el.text.replace(date_type, \"\").strip()\n",
    "    dates.append({\n",
    "        \"type\": date_type,\n",
    "        \"date\": date\n",
    "    })\n",
    "\n",
    "dates"
   ]
  },
  {
   "cell_type": "code",
   "execution_count": 46,
   "metadata": {},
   "outputs": [
    {
     "data": {
      "text/plain": [
       "('Распоряжение ОАО «РЖД» от 01.09.2020 № 1871р', '01.09.2020')"
      ]
     },
     "execution_count": 46,
     "metadata": {},
     "output_type": "execute_result"
    }
   ],
   "source": [
    "doc_type = soup.find_all(\"div\", {\"class\": \"doc-type\"})[0].text\n",
    "doc_type = doc_type.replace(\"\\xa0\", \" \")\n",
    "doc_type_date = re.search(r\"(?<=от )\\d\\d\\.\\d\\d\\.\\d\\d\\d\\d\", doc_type)\n",
    "doc_type_date = None if doc_type_date is None else doc_type_date.group()\n",
    "doc_type, doc_type_date"
   ]
  },
  {
   "cell_type": "code",
   "execution_count": 47,
   "metadata": {},
   "outputs": [
    {
     "data": {
      "text/plain": [
       "['Сотрудникам']"
      ]
     },
     "execution_count": 47,
     "metadata": {},
     "output_type": "execute_result"
    }
   ],
   "source": [
    "# find elements by css selector\n",
    "\n",
    "rubrics_a = soup.select(\".rubrics > a\")\n",
    "rubrics = [r.text for r in rubrics_a]\n",
    "rubrics"
   ]
  },
  {
   "cell_type": "code",
   "execution_count": 48,
   "metadata": {},
   "outputs": [],
   "source": [
    "# Для удобства чтения \n",
    "for el in soup.find_all(\"div\", {'class':'print-hide'}):\n",
    "    el.decompose()\n",
    "\n",
    "# Для удобства чтения \n",
    "for el in soup.find_all(\"a\", {'class':'goto-rubrics'}):\n",
    "    # print(el.text.strip())\n",
    "    el.decompose()"
   ]
  },
  {
   "cell_type": "code",
   "execution_count": 49,
   "metadata": {},
   "outputs": [
    {
     "name": "stdout",
     "output_type": "stream",
     "text": [
      "Elements: 3\n",
      "Len parts: 2\n",
      "Len attachments: 1\n"
     ]
    }
   ],
   "source": [
    "# find elements with class \"static-content\" and ANY non empty id\n",
    "# parts = soup.find_all(\"div\", {\"class\": \"static-content\"})\n",
    "elements = soup.select(\".attached > .static-content\")\n",
    "elements = [elem for elem in elements if len(elem.text.replace(\" \", \"\")) > 3] # get('id') and elem['id'].strip()\n",
    "\n",
    "print(\"Elements:\", len(elements))\n",
    "\n",
    "if len(elements) == 0:\n",
    "    # Ищем ссылку где есть ?action=download\n",
    "    # links = soup.find_all(\"a\", {\"href\": True})\n",
    "    # hrefs = [link['href'] for link in all_links]\n",
    "    hrefs = [href for href in all_hrefs if \"action=download\" in href]\n",
    "    hrefs = [\"https://company.rzd.ru\" + href for href in hrefs]\n",
    "\n",
    "    print(\"Hrefs:\", hrefs)\n",
    "\n",
    "else:\n",
    "    attachments = []\n",
    "    parts = []\n",
    "    for part in elements:\n",
    "        part_title = part.find(\"h3\")\n",
    "        if part_title is None:\n",
    "            part_title = \"\"\n",
    "        else:\n",
    "            part_title = part_title.text.strip()\n",
    "\n",
    "        contents = part.find_all(\"div\", {\"class\": \"onePartTextOut_text\"})\n",
    "        # print(len(contents))\n",
    "\n",
    "        if part_title.lower() == 'приложения':\n",
    "            attachments.append(part)\n",
    "        else:\n",
    "            parts.append(part)\n",
    "\n",
    "    print(\"Len parts:\", len(parts))\n",
    "    print(\"Len attachments:\", len(attachments))\n"
   ]
  },
  {
   "cell_type": "code",
   "execution_count": 27,
   "metadata": {},
   "outputs": [
    {
     "name": "stdout",
     "output_type": "stream",
     "text": [
      "УТВЕРЖДАЮ\n",
      "Вице-президент ОАО \"РЖД\"\n",
      "В.Г.Лемешко\n",
      "(С изменениями утв. ОАО \"РЖД\" от 05.05.2009 и Распоряжением ОАО \"РЖД\" от 01.12.2009 N 2443р)\n"
     ]
    }
   ],
   "source": [
    "# text=parts[0].get_text(separator = '\\n', strip = True)\n",
    "# print(text)"
   ]
  },
  {
   "cell_type": "code",
   "execution_count": 50,
   "metadata": {},
   "outputs": [
    {
     "name": "stdout",
     "output_type": "stream",
     "text": [
      "<div class=\"static-content\">\n",
      " <p>\n",
      "  (в ред. Распоряжения ОАО «РЖД» от 15.10.2020 N 2288/р)\n",
      " </p>\n",
      " <p>\n",
      "  В соответствии с пунктом 7.35 Коллективного договора ОАО «РЖД» на 2020-2022 годы:\n",
      " </p>\n",
      " <p>\n",
      "  1. Утвердить прилагаемый Временный порядок начисления и обмена баллов бонусного пакета (далее - Порядок).\n",
      " </p>\n",
      " <p>\n",
      "  2. Заместителям начальника по кадрам и социальным вопросам центральной дирекции моторвагонного подвижного состава Гудовой М.В., Северной железной дороги Жованик Н.А., Октябрьской железной дороги Середе С.И.:\n",
      "  <br/>\n",
      "  (в ред. Распоряжения ОАО «РЖД» от 15.10.2020 N 2288/р)\n",
      " </p>\n",
      " <p style=\"padding-left: 40px;\">\n",
      "  обеспечить ознакомление работников пилотного полигона с Порядком, утвержденным настоящим распоряжением;\n",
      " </p>\n",
      " <p style=\"padding-left: 40px;\">\n",
      "  назначить работников, ответственных за ведение работы по предоставлению бонусного пакета;\n",
      " </p>\n",
      " <p style=\"padding-left: 40px;\">\n",
      "  организовать работу по предоставлению бонусного пакета работникам пилотного полигона.\n",
      " </p>\n",
      " <p>\n",
      "  3. Заместителям начальника по кадрам и социальным вопросам: центральной дирекции моторвагонного подвижного состава Гудовой М.В., Северной железной дороги Жованик Н.А., Октябрьской железной дороги Середе С.И., председателю Дорпрофжел на Октябрьской железной дороге Голубеву А.В. (по согласованию), председателю ППО РОСПРОФЖЕЛ на Северной железной дороге Меджидову В.Г. (по согласованию) обеспечить:\n",
      "  <br/>\n",
      "  (в ред. Распоряжения ОАО «РЖД» от 15.10.2020 N 2288/р)\n",
      " </p>\n",
      " <p style=\"padding-left: 40px;\">\n",
      "  учет работников, участвующих в мероприятиях, предусмотренных Порядком, утвержденным настоящим распоряжением;\n",
      " </p>\n",
      " <p style=\"padding-left: 40px;\">\n",
      "  возможность обмена накопленных работниками баллов на корпоративные предложения ОАО «РЖД», предусмотренные Порядком;\n",
      " </p>\n",
      " <p style=\"padding-left: 40px;\">\n",
      "  предоставление информации об итогах проведенных в соответствии с Порядком мероприятий.\n",
      " </p>\n",
      " <p>\n",
      "  4. Контроль за исполнением настоящего распоряжения возложить на начальника Департамента социального развития Черногаева С.И.\n",
      " </p>\n",
      " <p style=\"text-align: right;\">\n",
      "  Заместитель генерального\n",
      "  <br/>\n",
      "  директора ОАО «РЖД»\n",
      "  <br/>\n",
      "  Д.С.Шаханов\n",
      " </p>\n",
      "</div>\n",
      "\n"
     ]
    }
   ],
   "source": [
    "print(parts[0].prettify())"
   ]
  }
 ],
 "metadata": {
  "kernelspec": {
   "display_name": "Python 3",
   "language": "python",
   "name": "python3"
  },
  "language_info": {
   "codemirror_mode": {
    "name": "ipython",
    "version": 3
   },
   "file_extension": ".py",
   "mimetype": "text/x-python",
   "name": "python",
   "nbconvert_exporter": "python",
   "pygments_lexer": "ipython3",
   "version": "3.12.3"
  }
 },
 "nbformat": 4,
 "nbformat_minor": 2
}
