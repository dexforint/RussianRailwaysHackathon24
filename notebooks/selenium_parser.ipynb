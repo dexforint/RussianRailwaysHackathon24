{
 "cells": [
  {
   "cell_type": "code",
   "execution_count": 1,
   "metadata": {},
   "outputs": [],
   "source": [
    "from tqdm.auto import tqdm, trange\n",
    "import time\n",
    "import pickle\n",
    "import os\n",
    "from seleniumbase import Driver as SeleniumBaseDriver\n",
    "from wifi import Wifi\n",
    "\n",
    "def get_seleniumbase_driver(eager=True, **kwargs):\n",
    "    # proxy = \"SERVER:PORT\" or \"USER:PASS@SERVER:PORT\"\n",
    "    driver = SeleniumBaseDriver(\n",
    "        browser=\"chrome\",\n",
    "        uc=True,\n",
    "        locale_code=\"en\",\n",
    "        page_load_strategy=\"eager\" if eager else None,\n",
    "        **kwargs,\n",
    "    )\n",
    "    # driver.maximize_window()\n",
    "\n",
    "    return driver"
   ]
  },
  {
   "cell_type": "code",
   "execution_count": 2,
   "metadata": {},
   "outputs": [],
   "source": [
    "wifi = Wifi()\n",
    "ans = wifi.restart()"
   ]
  },
  {
   "cell_type": "code",
   "execution_count": 3,
   "metadata": {},
   "outputs": [],
   "source": [
    "driver: SeleniumBaseDriver = get_seleniumbase_driver()"
   ]
  },
  {
   "cell_type": "code",
   "execution_count": 4,
   "metadata": {},
   "outputs": [
    {
     "data": {
      "application/vnd.jupyter.widget-view+json": {
       "model_id": "77e3108598cb45b8a8dfb694f1c48c41",
       "version_major": 2,
       "version_minor": 0
      },
      "text/plain": [
       "  0%|          | 0/11 [00:00<?, ?it/s]"
      ]
     },
     "metadata": {},
     "output_type": "display_data"
    },
    {
     "data": {
      "text/plain": [
       "640"
      ]
     },
     "execution_count": 4,
     "metadata": {},
     "output_type": "execute_result"
    }
   ],
   "source": [
    "if os.path.exists(\"docs.pkl\"):\n",
    "    with open(\"docs.pkl\", \"rb\") as f:\n",
    "        docs = pickle.load(f)\n",
    "        all_hrefs = set([doc[\"href\"] for doc in docs])\n",
    "else:\n",
    "    docs = []\n",
    "    all_hrefs = set()\n",
    "\n",
    "for page_num in trange(1, 12):\n",
    "    driver.get(f\"https://company.rzd.ru/ru/9353/page/105103?f3174_pagesize=60&&rubrics=&doc_num=&date_end=&doc_type=&source=&f_sortcol=&f_sortdir=&date_begin=&doc_name=&text_search_type=0&text_search=&f3174_pagenumber={page_num}\")\n",
    "\n",
    "    table = driver.find_element(by=\"css selector\", value=\"table.table\")\n",
    "\n",
    "    links = table.find_elements(by=\"css selector\", value=\"tr > td > a\")\n",
    "    \n",
    "    hrefs = [link.get_attribute(\"href\") for link in links]\n",
    "\n",
    "    for href in hrefs:\n",
    "        if href not in all_hrefs:\n",
    "            all_hrefs.add(href)\n",
    "            docs.append({\n",
    "                \"html\": None,\n",
    "                \"href\": href\n",
    "            })\n",
    "\n",
    "    if page_num % 5 == 0:\n",
    "        wifi = Wifi()\n",
    "        wifi.restart()\n",
    "\n",
    "len(docs)"
   ]
  },
  {
   "cell_type": "code",
   "execution_count": 6,
   "metadata": {},
   "outputs": [],
   "source": [
    "driver.close()"
   ]
  },
  {
   "cell_type": "code",
   "execution_count": 7,
   "metadata": {},
   "outputs": [],
   "source": [
    "with open(\"docs.pkl\", \"wb\") as f:\n",
    "    pickle.dump(docs, f)"
   ]
  },
  {
   "cell_type": "markdown",
   "metadata": {},
   "source": [
    "# Hrefs"
   ]
  },
  {
   "cell_type": "code",
   "execution_count": 28,
   "metadata": {},
   "outputs": [
    {
     "data": {
      "text/plain": [
       "640"
      ]
     },
     "execution_count": 28,
     "metadata": {},
     "output_type": "execute_result"
    }
   ],
   "source": [
    "with open(\"docs.pkl\", \"rb\") as f:\n",
    "    docs = pickle.load(f)\n",
    "\n",
    "len([doc['html'] for doc in docs if doc['html'] is not None])"
   ]
  },
  {
   "cell_type": "code",
   "execution_count": 25,
   "metadata": {},
   "outputs": [],
   "source": [
    "wifi = Wifi()\n",
    "ans = wifi.restart()"
   ]
  },
  {
   "cell_type": "code",
   "execution_count": 26,
   "metadata": {},
   "outputs": [],
   "source": [
    "driver: SeleniumBaseDriver = get_seleniumbase_driver()\n",
    "driver.set_page_load_timeout(10)\n",
    "driver.implicitly_wait(10)"
   ]
  },
  {
   "cell_type": "code",
   "execution_count": 27,
   "metadata": {},
   "outputs": [
    {
     "data": {
      "application/vnd.jupyter.widget-view+json": {
       "model_id": "f4f187d552bc467ca673ee0969ce8135",
       "version_major": 2,
       "version_minor": 0
      },
      "text/plain": [
       "Процесс выполнения:   0%|          | 0/640 [00:00<?, ?it/s]"
      ]
     },
     "metadata": {},
     "output_type": "display_data"
    },
    {
     "name": "stdout",
     "output_type": "stream",
     "text": [
      "Exception 1, Message: no such element: Unable to locate element: {\"method\":\"css selector\",\"selector\":\"div.docs\"}\n",
      "  (Session info: chrome=129.0.6668.100); For documentation on this error, please visit: https://www.selenium.dev/documentation/webdriver/troubleshooting/errors#no-such-element-exception\n",
      "Stacktrace:\n",
      "\tGetHandleVerifier [0x00007FF60A9EB675+29573]\n",
      "\t(No symbol) [0x00007FF60A9604A0]\n",
      "\t(No symbol) [0x00007FF60A81B6EA]\n",
      "\t(No symbol) [0x00007FF60A86F815]\n",
      "\t(No symbol) [0x00007FF60A86FA6C]\n",
      "\t(No symbol) [0x00007FF60A8BB917]\n",
      "\t(No symbol) [0x00007FF60A89733F]\n",
      "\t(No symbol) [0x00007FF60A8B86BC]\n",
      "\t(No symbol) [0x00007FF60A8970A3]\n",
      "\t(No symbol) [0x00007FF60A8612DF]\n",
      "\t(No symbol) [0x00007FF60A862441]\n",
      "\tGetHandleVerifier [0x00007FF60AD1C5BD+3375821]\n",
      "\tGetHandleVerifier [0x00007FF60AD679B7+3684039]\n",
      "\tGetHandleVerifier [0x00007FF60AD5CDDB+3640043]\n",
      "\tGetHandleVerifier [0x00007FF60AAAB7F6+816390]\n",
      "\t(No symbol) [0x00007FF60A96B7AF]\n",
      "\t(No symbol) [0x00007FF60A9675D4]\n",
      "\t(No symbol) [0x00007FF60A967770]\n",
      "\t(No symbol) [0x00007FF60A9565CF]\n",
      "\tBaseThreadInitThunk [0x00007FFAAE937374+20]\n",
      "\tRtlUserThreadStart [0x00007FFAAEA7CC91+33]\n",
      "\n"
     ]
    }
   ],
   "source": [
    "i = 0\n",
    "\n",
    "exception_counter = 0\n",
    "\n",
    "with tqdm(total=len(docs), desc=\"Процесс выполнения\") as pbar:\n",
    "    while i < len(docs):\n",
    "        doc = docs[i]\n",
    "        href = docs[i][\"href\"]\n",
    "        if doc[\"html\"] is not None:\n",
    "            pbar.update(1)\n",
    "            i += 1\n",
    "            continue\n",
    "\n",
    "        try:\n",
    "            # print(href)\n",
    "            driver.get(href)\n",
    "            main = driver.find_element(by=\"css selector\", value=\"div.docs\")\n",
    "            html = main.get_attribute(\"outerHTML\")\n",
    "\n",
    "        except KeyboardInterrupt:\n",
    "            break\n",
    "        except Exception as e:\n",
    "            exception_counter += 1\n",
    "            print(f\"Exception {exception_counter},\", e)\n",
    "            # time.sleep(5)\n",
    "            wifi = Wifi()\n",
    "            ans = wifi.restart()\n",
    "            continue\n",
    "\n",
    "        docs[i][\"html\"] = html\n",
    "\n",
    "        with open(\"docs.pkl\", \"wb\") as f:\n",
    "            pickle.dump(docs, f)\n",
    "\n",
    "        pbar.update(1)\n",
    "        i += 1\n",
    "        time.sleep(1)\n",
    "\n",
    "        if i % 8 == 7:\n",
    "            wifi = Wifi()\n",
    "            wifi.restart()\n",
    "\n"
   ]
  },
  {
   "cell_type": "code",
   "execution_count": null,
   "metadata": {},
   "outputs": [],
   "source": [
    "driver.close()"
   ]
  },
  {
   "cell_type": "code",
   "execution_count": null,
   "metadata": {},
   "outputs": [],
   "source": []
  }
 ],
 "metadata": {
  "kernelspec": {
   "display_name": "Python 3",
   "language": "python",
   "name": "python3"
  },
  "language_info": {
   "codemirror_mode": {
    "name": "ipython",
    "version": 3
   },
   "file_extension": ".py",
   "mimetype": "text/x-python",
   "name": "python",
   "nbconvert_exporter": "python",
   "pygments_lexer": "ipython3",
   "version": "3.12.3"
  }
 },
 "nbformat": 4,
 "nbformat_minor": 2
}
